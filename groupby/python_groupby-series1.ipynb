{
 "cells": [
  {
   "cell_type": "markdown",
   "id": "eac79926",
   "metadata": {},
   "source": [
    "### groupby - usage on insurance policies data\n"
   ]
  },
  {
   "cell_type": "markdown",
   "id": "5b67f086",
   "metadata": {},
   "source": [
    "### Data and code avalable in the description  "
   ]
  },
  {
   "cell_type": "code",
   "execution_count": 18,
   "id": "84e54daf",
   "metadata": {},
   "outputs": [
    {
     "data": {
      "text/html": [
       "<div>\n",
       "<style scoped>\n",
       "    .dataframe tbody tr th:only-of-type {\n",
       "        vertical-align: middle;\n",
       "    }\n",
       "\n",
       "    .dataframe tbody tr th {\n",
       "        vertical-align: top;\n",
       "    }\n",
       "\n",
       "    .dataframe thead th {\n",
       "        text-align: right;\n",
       "    }\n",
       "</style>\n",
       "<table border=\"1\" class=\"dataframe\">\n",
       "  <thead>\n",
       "    <tr style=\"text-align: right;\">\n",
       "      <th></th>\n",
       "      <th>OrderDate</th>\n",
       "      <th>Region</th>\n",
       "      <th>Rep</th>\n",
       "      <th>Item</th>\n",
       "      <th>Units</th>\n",
       "      <th>Unit Price</th>\n",
       "    </tr>\n",
       "  </thead>\n",
       "  <tbody>\n",
       "    <tr>\n",
       "      <th>0</th>\n",
       "      <td>4-Jul-2014</td>\n",
       "      <td>East</td>\n",
       "      <td>Richard</td>\n",
       "      <td>Pen Set</td>\n",
       "      <td>62</td>\n",
       "      <td>4.99</td>\n",
       "    </tr>\n",
       "    <tr>\n",
       "      <th>1</th>\n",
       "      <td>12-Jul-2014</td>\n",
       "      <td>East</td>\n",
       "      <td>Nick</td>\n",
       "      <td>Binder</td>\n",
       "      <td>29</td>\n",
       "      <td>1.99</td>\n",
       "    </tr>\n",
       "    <tr>\n",
       "      <th>2</th>\n",
       "      <td>21-Jul-2014</td>\n",
       "      <td>Central</td>\n",
       "      <td>Morgan</td>\n",
       "      <td>Pen Set</td>\n",
       "      <td>55</td>\n",
       "      <td>12.49</td>\n",
       "    </tr>\n",
       "    <tr>\n",
       "      <th>3</th>\n",
       "      <td>29-Jul-2014</td>\n",
       "      <td>East</td>\n",
       "      <td>Susan</td>\n",
       "      <td>Binder</td>\n",
       "      <td>81</td>\n",
       "      <td>19.99</td>\n",
       "    </tr>\n",
       "    <tr>\n",
       "      <th>4</th>\n",
       "      <td>7-Aug-2014</td>\n",
       "      <td>Central</td>\n",
       "      <td>Matthew</td>\n",
       "      <td>Pen Set</td>\n",
       "      <td>42</td>\n",
       "      <td>23.95</td>\n",
       "    </tr>\n",
       "  </tbody>\n",
       "</table>\n",
       "</div>"
      ],
      "text/plain": [
       "     OrderDate   Region      Rep     Item  Units  Unit Price\n",
       "0   4-Jul-2014     East  Richard  Pen Set     62        4.99\n",
       "1  12-Jul-2014     East     Nick   Binder     29        1.99\n",
       "2  21-Jul-2014  Central   Morgan  Pen Set     55       12.49\n",
       "3  29-Jul-2014     East    Susan   Binder     81       19.99\n",
       "4   7-Aug-2014  Central  Matthew  Pen Set     42       23.95"
      ]
     },
     "execution_count": 18,
     "metadata": {},
     "output_type": "execute_result"
    }
   ],
   "source": [
    "# dataset available @Kaggle\n",
    "#import pandas\n",
    "import pandas as pd\n",
    "# read .csv file\n",
    "ipdf = pd.read_csv(\"OfficeSupplies.csv\")\n",
    "ipdf.head(5)"
   ]
  },
  {
   "cell_type": "markdown",
   "id": "ac8e5960",
   "metadata": {},
   "source": [
    "### groupby Region\n"
   ]
  },
  {
   "cell_type": "code",
   "execution_count": 23,
   "id": "f0103314",
   "metadata": {},
   "outputs": [
    {
     "data": {
      "text/html": [
       "<div>\n",
       "<style scoped>\n",
       "    .dataframe tbody tr th:only-of-type {\n",
       "        vertical-align: middle;\n",
       "    }\n",
       "\n",
       "    .dataframe tbody tr th {\n",
       "        vertical-align: top;\n",
       "    }\n",
       "\n",
       "    .dataframe thead th {\n",
       "        text-align: right;\n",
       "    }\n",
       "</style>\n",
       "<table border=\"1\" class=\"dataframe\">\n",
       "  <thead>\n",
       "    <tr style=\"text-align: right;\">\n",
       "      <th></th>\n",
       "      <th>Units</th>\n",
       "      <th>Unit Price</th>\n",
       "    </tr>\n",
       "    <tr>\n",
       "      <th>Region</th>\n",
       "      <th></th>\n",
       "      <th></th>\n",
       "    </tr>\n",
       "  </thead>\n",
       "  <tbody>\n",
       "    <tr>\n",
       "      <th>Central</th>\n",
       "      <td>1199</td>\n",
       "      <td>432.45</td>\n",
       "    </tr>\n",
       "    <tr>\n",
       "      <th>East</th>\n",
       "      <td>691</td>\n",
       "      <td>118.87</td>\n",
       "    </tr>\n",
       "    <tr>\n",
       "      <th>West</th>\n",
       "      <td>231</td>\n",
       "      <td>321.95</td>\n",
       "    </tr>\n",
       "  </tbody>\n",
       "</table>\n",
       "</div>"
      ],
      "text/plain": [
       "         Units  Unit Price\n",
       "Region                    \n",
       "Central   1199      432.45\n",
       "East       691      118.87\n",
       "West       231      321.95"
      ]
     },
     "execution_count": 23,
     "metadata": {},
     "output_type": "execute_result"
    }
   ],
   "source": [
    "gp1 = ipdf.groupby(['Region']).sum()\n",
    "gp1"
   ]
  },
  {
   "cell_type": "markdown",
   "id": "9a557768",
   "metadata": {},
   "source": [
    "### write group by data into csv"
   ]
  },
  {
   "cell_type": "code",
   "execution_count": 25,
   "id": "d22b631f",
   "metadata": {},
   "outputs": [],
   "source": [
    "gp1.reset_index().to_csv('gp1.csv')"
   ]
  },
  {
   "cell_type": "markdown",
   "id": "661d42d8",
   "metadata": {},
   "source": [
    "### groupby Region and Item "
   ]
  },
  {
   "cell_type": "code",
   "execution_count": 26,
   "id": "ba03d2fe",
   "metadata": {},
   "outputs": [
    {
     "data": {
      "text/html": [
       "<div>\n",
       "<style scoped>\n",
       "    .dataframe tbody tr th:only-of-type {\n",
       "        vertical-align: middle;\n",
       "    }\n",
       "\n",
       "    .dataframe tbody tr th {\n",
       "        vertical-align: top;\n",
       "    }\n",
       "\n",
       "    .dataframe thead th {\n",
       "        text-align: right;\n",
       "    }\n",
       "</style>\n",
       "<table border=\"1\" class=\"dataframe\">\n",
       "  <thead>\n",
       "    <tr style=\"text-align: right;\">\n",
       "      <th></th>\n",
       "      <th></th>\n",
       "      <th>Units</th>\n",
       "      <th>Unit Price</th>\n",
       "    </tr>\n",
       "    <tr>\n",
       "      <th>Region</th>\n",
       "      <th>Item</th>\n",
       "      <th></th>\n",
       "      <th></th>\n",
       "    </tr>\n",
       "  </thead>\n",
       "  <tbody>\n",
       "    <tr>\n",
       "      <th rowspan=\"5\" valign=\"top\">Central</th>\n",
       "      <th>Binder</th>\n",
       "      <td>424</td>\n",
       "      <td>91.93</td>\n",
       "    </tr>\n",
       "    <tr>\n",
       "      <th>Desk</th>\n",
       "      <td>7</td>\n",
       "      <td>250.00</td>\n",
       "    </tr>\n",
       "    <tr>\n",
       "      <th>Pen</th>\n",
       "      <td>27</td>\n",
       "      <td>19.99</td>\n",
       "    </tr>\n",
       "    <tr>\n",
       "      <th>Pen Set</th>\n",
       "      <td>243</td>\n",
       "      <td>46.42</td>\n",
       "    </tr>\n",
       "    <tr>\n",
       "      <th>Pencil</th>\n",
       "      <td>498</td>\n",
       "      <td>24.11</td>\n",
       "    </tr>\n",
       "    <tr>\n",
       "      <th rowspan=\"4\" valign=\"top\">East</th>\n",
       "      <th>Binder</th>\n",
       "      <td>234</td>\n",
       "      <td>40.95</td>\n",
       "    </tr>\n",
       "    <tr>\n",
       "      <th>Pen</th>\n",
       "      <td>175</td>\n",
       "      <td>33.97</td>\n",
       "    </tr>\n",
       "    <tr>\n",
       "      <th>Pen Set</th>\n",
       "      <td>152</td>\n",
       "      <td>36.97</td>\n",
       "    </tr>\n",
       "    <tr>\n",
       "      <th>Pencil</th>\n",
       "      <td>130</td>\n",
       "      <td>6.98</td>\n",
       "    </tr>\n",
       "    <tr>\n",
       "      <th rowspan=\"4\" valign=\"top\">West</th>\n",
       "      <th>Binder</th>\n",
       "      <td>64</td>\n",
       "      <td>39.98</td>\n",
       "    </tr>\n",
       "    <tr>\n",
       "      <th>Desk</th>\n",
       "      <td>3</td>\n",
       "      <td>275.00</td>\n",
       "    </tr>\n",
       "    <tr>\n",
       "      <th>Pen</th>\n",
       "      <td>76</td>\n",
       "      <td>1.99</td>\n",
       "    </tr>\n",
       "    <tr>\n",
       "      <th>Pencil</th>\n",
       "      <td>88</td>\n",
       "      <td>4.98</td>\n",
       "    </tr>\n",
       "  </tbody>\n",
       "</table>\n",
       "</div>"
      ],
      "text/plain": [
       "                 Units  Unit Price\n",
       "Region  Item                      \n",
       "Central Binder     424       91.93\n",
       "        Desk         7      250.00\n",
       "        Pen         27       19.99\n",
       "        Pen Set    243       46.42\n",
       "        Pencil     498       24.11\n",
       "East    Binder     234       40.95\n",
       "        Pen        175       33.97\n",
       "        Pen Set    152       36.97\n",
       "        Pencil     130        6.98\n",
       "West    Binder      64       39.98\n",
       "        Desk         3      275.00\n",
       "        Pen         76        1.99\n",
       "        Pencil      88        4.98"
      ]
     },
     "execution_count": 26,
     "metadata": {},
     "output_type": "execute_result"
    }
   ],
   "source": [
    "gp2 = ipdf.groupby([\"Region\",\"Item\"]).sum()\n",
    "gp2"
   ]
  },
  {
   "cell_type": "markdown",
   "id": "95058f1c",
   "metadata": {},
   "source": [
    "### write group by data into csv"
   ]
  },
  {
   "cell_type": "code",
   "execution_count": 29,
   "id": "cb728871",
   "metadata": {},
   "outputs": [],
   "source": [
    "gp2.reset_index().to_csv('gp2.csv')"
   ]
  },
  {
   "cell_type": "code",
   "execution_count": null,
   "id": "4d494e6c",
   "metadata": {},
   "outputs": [],
   "source": [
    "code and dataset available at github link in the description\n",
    "Thanks"
   ]
  },
  {
   "cell_type": "code",
   "execution_count": null,
   "id": "5722d6ed",
   "metadata": {},
   "outputs": [],
   "source": [
    "check the dowloaded .csv files"
   ]
  },
  {
   "cell_type": "code",
   "execution_count": null,
   "id": "c1914c9a",
   "metadata": {},
   "outputs": [],
   "source": []
  }
 ],
 "metadata": {
  "kernelspec": {
   "display_name": "Python 3 (ipykernel)",
   "language": "python",
   "name": "python3"
  },
  "language_info": {
   "codemirror_mode": {
    "name": "ipython",
    "version": 3
   },
   "file_extension": ".py",
   "mimetype": "text/x-python",
   "name": "python",
   "nbconvert_exporter": "python",
   "pygments_lexer": "ipython3",
   "version": "3.9.7"
  }
 },
 "nbformat": 4,
 "nbformat_minor": 5
}
